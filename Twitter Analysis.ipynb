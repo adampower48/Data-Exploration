{
 "cells": [
  {
   "cell_type": "code",
   "execution_count": 1,
   "metadata": {},
   "outputs": [],
   "source": [
    "import requests\n",
    "import json\n",
    "import base64\n",
    "\n",
    "import pandas as pd"
   ]
  },
  {
   "cell_type": "code",
   "execution_count": 15,
   "metadata": {},
   "outputs": [],
   "source": [
    "def read_json(filename):\n",
    "    with open(filename) as f:\n",
    "        return json.loads(f.read())"
   ]
  },
  {
   "cell_type": "code",
   "execution_count": 16,
   "metadata": {},
   "outputs": [],
   "source": [
    "cred_filename = \"./twitter_credentials.json\"\n",
    "credentials = read_json(cred_filename)\n",
    "\n",
    "search_url = \"https://api.twitter.com/1.1/search/tweets.json\"\n",
    "auth_url = \"https://api.twitter.com/oauth2/token\""
   ]
  },
  {
   "cell_type": "markdown",
   "metadata": {},
   "source": [
    "# Authentication"
   ]
  },
  {
   "cell_type": "code",
   "execution_count": 3,
   "metadata": {},
   "outputs": [],
   "source": [
    "def get_bearer_token(consumer_key, consumer_secret):\n",
    "    # Not sure why this needs all the encoding.\n",
    "    key_secret = \"{}:{}\".format(consumer_key, consumer_secret)\n",
    "    b64_encoded_key = base64.b64encode(key_secret.encode(\"ascii\")).decode(\"ascii\")\n",
    "\n",
    "    headers={\n",
    "        \"Authorization\": 'Basic {}'.format(b64_encoded_key), \n",
    "        \"Content-Type\": \"application/x-www-form-urlencoded;charset=UTF-8\",\n",
    "    }\n",
    "\n",
    "    resp = requests.post(auth_url, headers=headers, data={'grant_type': 'client_credentials'})\n",
    "    token = resp.json()[\"access_token\"]\n",
    "    \n",
    "    return token"
   ]
  },
  {
   "cell_type": "code",
   "execution_count": 4,
   "metadata": {},
   "outputs": [],
   "source": [
    "access_token = get_bearer_token(credentials[\"CONSUMER_KEY\"], credentials[\"CONSUMER_SECRET\"])"
   ]
  },
  {
   "cell_type": "markdown",
   "metadata": {},
   "source": [
    "# Get Tweets"
   ]
  },
  {
   "cell_type": "code",
   "execution_count": 11,
   "metadata": {},
   "outputs": [],
   "source": [
    "def search_tweets(query, count, result_type=\"recent\"):\n",
    "    search_headers = {\n",
    "        'Authorization': 'Bearer {}'.format(access_token)    \n",
    "    }\n",
    "\n",
    "    search_params = {\n",
    "        'q': query,\n",
    "        'count': count,\n",
    "        'result_type': result_type,\n",
    "        \"include_entities\": False,\n",
    "    }\n",
    "\n",
    "    js = requests.get(search_url, headers=search_headers, params=search_params).json()[\"statuses\"]\n",
    "    tweets = pd.DataFrame(js, columns=[\"created_at\", \"id\", \"lang\", \"retweet_count\", \"text\", \"user\"])\n",
    "    tweets[\"user\"] = tweets[\"user\"].str[\"screen_name\"]\n",
    "    tweets[\"created_at\"] = pd.to_datetime(tweets[\"created_at\"], infer_datetime_format=True)\n",
    "    \n",
    "    return tweets"
   ]
  },
  {
   "cell_type": "code",
   "execution_count": 12,
   "metadata": {},
   "outputs": [],
   "source": [
    "tweets = search_tweets(\"trump\", 10)"
   ]
  },
  {
   "cell_type": "code",
   "execution_count": 13,
   "metadata": {},
   "outputs": [
    {
     "data": {
      "text/html": [
       "<div>\n",
       "<style scoped>\n",
       "    .dataframe tbody tr th:only-of-type {\n",
       "        vertical-align: middle;\n",
       "    }\n",
       "\n",
       "    .dataframe tbody tr th {\n",
       "        vertical-align: top;\n",
       "    }\n",
       "\n",
       "    .dataframe thead th {\n",
       "        text-align: right;\n",
       "    }\n",
       "</style>\n",
       "<table border=\"1\" class=\"dataframe\">\n",
       "  <thead>\n",
       "    <tr style=\"text-align: right;\">\n",
       "      <th></th>\n",
       "      <th>created_at</th>\n",
       "      <th>id</th>\n",
       "      <th>lang</th>\n",
       "      <th>retweet_count</th>\n",
       "      <th>text</th>\n",
       "      <th>user</th>\n",
       "    </tr>\n",
       "  </thead>\n",
       "  <tbody>\n",
       "    <tr>\n",
       "      <th>0</th>\n",
       "      <td>2018-12-21 17:09:00</td>\n",
       "      <td>1076162635031146496</td>\n",
       "      <td>de</td>\n",
       "      <td>0</td>\n",
       "      <td>Wie wäre es mit einem Buch als Weihnachtsgesch...</td>\n",
       "      <td>Blog1600Penn</td>\n",
       "    </tr>\n",
       "    <tr>\n",
       "      <th>1</th>\n",
       "      <td>2018-12-21 17:09:00</td>\n",
       "      <td>1076162634989428736</td>\n",
       "      <td>en</td>\n",
       "      <td>7</td>\n",
       "      <td>RT @Realmommabear: @ChuckGrassley We don't dis...</td>\n",
       "      <td>Betsy_Manning</td>\n",
       "    </tr>\n",
       "    <tr>\n",
       "      <th>2</th>\n",
       "      <td>2018-12-21 17:09:00</td>\n",
       "      <td>1076162634846629888</td>\n",
       "      <td>en</td>\n",
       "      <td>2341</td>\n",
       "      <td>RT @SaysHummingbird: MAKE. THIS. GO. VIRAL. 🔥 ...</td>\n",
       "      <td>pkraayenbrink</td>\n",
       "    </tr>\n",
       "    <tr>\n",
       "      <th>3</th>\n",
       "      <td>2018-12-21 17:09:00</td>\n",
       "      <td>1076162634800685056</td>\n",
       "      <td>en</td>\n",
       "      <td>540</td>\n",
       "      <td>RT @RealJack: BACKSTAB: McCain Leaked Phony Do...</td>\n",
       "      <td>KWhittler</td>\n",
       "    </tr>\n",
       "    <tr>\n",
       "      <th>4</th>\n",
       "      <td>2018-12-21 17:09:00</td>\n",
       "      <td>1076162634683052032</td>\n",
       "      <td>en</td>\n",
       "      <td>635</td>\n",
       "      <td>RT @maddow: “Once again we see a president who...</td>\n",
       "      <td>ReneeVoiceBrand</td>\n",
       "    </tr>\n",
       "    <tr>\n",
       "      <th>5</th>\n",
       "      <td>2018-12-21 17:09:00</td>\n",
       "      <td>1076162634486083585</td>\n",
       "      <td>en</td>\n",
       "      <td>553</td>\n",
       "      <td>RT @JRubinBlogger: We have gotten to this sorr...</td>\n",
       "      <td>beebecathy</td>\n",
       "    </tr>\n",
       "    <tr>\n",
       "      <th>6</th>\n",
       "      <td>2018-12-21 17:09:00</td>\n",
       "      <td>1076162634481836033</td>\n",
       "      <td>en</td>\n",
       "      <td>1742</td>\n",
       "      <td>RT @joncoopertweets: Trump should resign immed...</td>\n",
       "      <td>woodysnoop</td>\n",
       "    </tr>\n",
       "    <tr>\n",
       "      <th>7</th>\n",
       "      <td>2018-12-21 17:09:00</td>\n",
       "      <td>1076162634431582210</td>\n",
       "      <td>en</td>\n",
       "      <td>3694</td>\n",
       "      <td>RT @ChelseaClinton: Merry Christmas from Presi...</td>\n",
       "      <td>MKJayAtWork</td>\n",
       "    </tr>\n",
       "    <tr>\n",
       "      <th>8</th>\n",
       "      <td>2018-12-21 17:09:00</td>\n",
       "      <td>1076162634016268288</td>\n",
       "      <td>en</td>\n",
       "      <td>1317</td>\n",
       "      <td>RT @RealJamesWoods: \"’The Trump temper tantrum...</td>\n",
       "      <td>Colleen0707</td>\n",
       "    </tr>\n",
       "    <tr>\n",
       "      <th>9</th>\n",
       "      <td>2018-12-21 17:09:00</td>\n",
       "      <td>1076162633940647937</td>\n",
       "      <td>en</td>\n",
       "      <td>158</td>\n",
       "      <td>RT @peterdaou: GOP LEADERS ARE TRUMP COLLABORA...</td>\n",
       "      <td>IntrovertDeb</td>\n",
       "    </tr>\n",
       "  </tbody>\n",
       "</table>\n",
       "</div>"
      ],
      "text/plain": [
       "           created_at                   id lang  retweet_count  \\\n",
       "0 2018-12-21 17:09:00  1076162635031146496   de              0   \n",
       "1 2018-12-21 17:09:00  1076162634989428736   en              7   \n",
       "2 2018-12-21 17:09:00  1076162634846629888   en           2341   \n",
       "3 2018-12-21 17:09:00  1076162634800685056   en            540   \n",
       "4 2018-12-21 17:09:00  1076162634683052032   en            635   \n",
       "5 2018-12-21 17:09:00  1076162634486083585   en            553   \n",
       "6 2018-12-21 17:09:00  1076162634481836033   en           1742   \n",
       "7 2018-12-21 17:09:00  1076162634431582210   en           3694   \n",
       "8 2018-12-21 17:09:00  1076162634016268288   en           1317   \n",
       "9 2018-12-21 17:09:00  1076162633940647937   en            158   \n",
       "\n",
       "                                                text             user  \n",
       "0  Wie wäre es mit einem Buch als Weihnachtsgesch...     Blog1600Penn  \n",
       "1  RT @Realmommabear: @ChuckGrassley We don't dis...    Betsy_Manning  \n",
       "2  RT @SaysHummingbird: MAKE. THIS. GO. VIRAL. 🔥 ...    pkraayenbrink  \n",
       "3  RT @RealJack: BACKSTAB: McCain Leaked Phony Do...        KWhittler  \n",
       "4  RT @maddow: “Once again we see a president who...  ReneeVoiceBrand  \n",
       "5  RT @JRubinBlogger: We have gotten to this sorr...       beebecathy  \n",
       "6  RT @joncoopertweets: Trump should resign immed...       woodysnoop  \n",
       "7  RT @ChelseaClinton: Merry Christmas from Presi...      MKJayAtWork  \n",
       "8  RT @RealJamesWoods: \"’The Trump temper tantrum...      Colleen0707  \n",
       "9  RT @peterdaou: GOP LEADERS ARE TRUMP COLLABORA...     IntrovertDeb  "
      ]
     },
     "execution_count": 13,
     "metadata": {},
     "output_type": "execute_result"
    }
   ],
   "source": [
    "tweets"
   ]
  },
  {
   "cell_type": "code",
   "execution_count": null,
   "metadata": {},
   "outputs": [],
   "source": []
  }
 ],
 "metadata": {
  "kernelspec": {
   "display_name": "Python 3",
   "language": "python",
   "name": "python3"
  },
  "language_info": {
   "codemirror_mode": {
    "name": "ipython",
    "version": 3
   },
   "file_extension": ".py",
   "mimetype": "text/x-python",
   "name": "python",
   "nbconvert_exporter": "python",
   "pygments_lexer": "ipython3",
   "version": "3.6.5"
  }
 },
 "nbformat": 4,
 "nbformat_minor": 2
}
